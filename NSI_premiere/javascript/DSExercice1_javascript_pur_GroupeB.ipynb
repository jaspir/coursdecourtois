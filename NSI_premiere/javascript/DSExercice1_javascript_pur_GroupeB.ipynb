{
 "cells": [
  {
   "cell_type": "markdown",
   "metadata": {},
   "source": [
    "# Exercice 1\n",
    "Ecrire une fonction `est_carre(N)` avec $N≥0$ en JavaScript.\n",
    "Cette fonction renvoie le booléen `true` si $N ≥ 0$ est un carré parfait sinon `false` avec N un entier.\n",
    "On peut utiliser `Math.sqrt` pour la racine carré et `Math.floor` pour la partie entiére.\n",
    "\n",
    "Exemples:\n",
    "\n",
    "`est_carre(6)` renvoie `false` car $E(√6) ≠√6$\n",
    "\n",
    "`est_carre(9)` renvoie `true` car $E(√9)=√9$\n",
    "\n",
    "$E(x)$ est la partie entière de $x$. "
   ]
  },
  {
   "cell_type": "markdown",
   "metadata": {},
   "source": [
    "## Code à mettre sur <a target =\"_blank\" href=\"https://capytale2.ac-paris.fr/web/c/9314-2805095\">Capytale</a> dans le fichier  **javascript1.js**"
   ]
  },
  {
   "cell_type": "code",
   "execution_count": 4,
   "metadata": {
    "collapsed": true
   },
   "outputs": [],
   "source": [
    "function est_carre(N) {\n",
    "  \n",
    "  \n",
    "  //Votre code...\n",
    "\n",
    "\n",
    "}\n",
    "\n"
   ]
  },
  {
   "cell_type": "markdown",
   "metadata": {},
   "source": [
    "# Tests (ne pas mettre sur Capytale)"
   ]
  },
  {
   "cell_type": "code",
   "execution_count": 6,
   "metadata": {
    "collapsed": true
   },
   "outputs": [
    {
     "name": "stdout",
     "output_type": "stream",
     "text": [
      "est_voyelle(a)=undefined\n",
      "est_voyelle(b)=undefined\n",
      "est_voyelle(e)=undefined\n",
      "est_voyelle(g)=undefined\n",
      "est_voyelle(i)=undefined\n"
     ]
    }
   ],
   "source": [
    "var N=4;\n",
    "  console.log(\"est_carre(\"+N+\") = \"+est_carre(N));\n",
    "    N=1;\n",
    "  console.log(\"est_carre(\"+N+\") = \"+est_carre(N)\");\n",
    "\n",
    "  N=9;\n",
    "  console.log(\"est_carre(\"+N+\") = \"+est_carre(N));\n",
    "  N=6;\n",
    "  console.log(\"est_carre(\"+N+\") = \"+est_carre(N));\n",
    "  N=20;\n",
    "  console.log(\"est_carre(\"+N+\") = \"+est_carre(N));\n",
    "    N=100; \n",
    "  console.log(\"est_carre(\"+N+\") = \"+est_carre(N));\n",
    "  N=-9;\n",
    "  console.log(\"est_carre(\"+N+\") = \"+est_carre(N));"
   ]
  },
  {
   "cell_type": "markdown",
   "metadata": {},
   "source": [
    "<span style=\"color:red\">ATTENTION, pensez bien à enregister avant de commencer la suite.<span>"
   ]
  },
  {
   "cell_type": "markdown",
   "metadata": {},
   "source": [
    "# Exercice 2\n",
    "Avec une boucle FOR écrire dans javascript2.js, la fonction `sommeCarre(N)\"` qui renvoie la somme des N premiers carrés.\n",
    "\n",
    "Exemple:\n",
    "\n",
    "`sommeCarre(4)` renvoie 1+4+9+16=`30`. "
   ]
  },
  {
   "cell_type": "markdown",
   "metadata": {},
   "source": [
    "## Code à mettre sur <a target =\"_blank\" href=\"https://capytale2.ac-paris.fr/web/c/9314-2805095\">Capytale</a> dans le fichier  **javascript2.js**"
   ]
  },
  {
   "cell_type": "code",
   "execution_count": 2,
   "metadata": {
    "collapsed": true
   },
   "outputs": [],
   "source": [
    "function sommeCarre(N) {\n",
    "      \n",
    "    //Votre code...\n",
    "  \n",
    "  }"
   ]
  },
  {
   "cell_type": "markdown",
   "metadata": {},
   "source": [
    "## Tests (ne pas mettre sur Capytale)"
   ]
  },
  {
   "cell_type": "code",
   "execution_count": 4,
   "metadata": {
    "collapsed": true
   },
   "outputs": [
    {
     "name": "stdout",
     "output_type": "stream",
     "text": [
      "renverser('informatique')=undefined\n",
      "renverser('nsi')=undefined\n",
      "renverser('')=undefined\n",
      "renverser('abcdefghij')=undefined\n"
     ]
    }
   ],
   "source": [
    " ///Tests\n",
    "\n",
    "var N=4;\n",
    "  \n",
    " console.log(\"sommeCarre(\"+N+\") = \"+sommeCarre(N));\n",
    " N=1;\n",
    " console.log(\"sommeCarre(\"+N+\") = \"+sommeCarre(N));\n",
    " N=0;\n",
    " console.log(\"sommeCarre(\"+N+\") = \"+sommeCarre(N));\n",
    " N=10;\n",
    " console.log(\"sommeCarre(\"+N+\") = \"+sommeCarre(N));"
   ]
  },
  {
   "cell_type": "markdown",
   "metadata": {},
   "source": [
    "<span style=\"color:red\">ATTENTION, pensez bien à enregister avant de commencer la suite.<span>"
   ]
  },
  {
   "cell_type": "markdown",
   "metadata": {},
   "source": [
    "# Exercice 3\n",
    "Avec une boucle `while`, écrire , une fonction `sommeCarreImpaire(N)` qui renvoie la somme des `N` premiers carrés impairs. Elle doit renvoyer `\"Problème ou N trop grand\"` si on dépasse l'`anticrash`.\n",
    "\n",
    "!!! warning Boucle infinie\n",
    "\n",
    "ATTENTION: Ne supprimez pas l'anticrash du`while`, vous serez pénalisez si je suis obligé d'intervenir.\n",
    "\n",
    "!!!\n",
    "\n",
    "Exemple:\n",
    "\n",
    "`sommeCarreImpaire(4)` renvoie 1+9+25+49=`84`. \n",
    "\n"
   ]
  },
  {
   "cell_type": "markdown",
   "metadata": {},
   "source": [
    "## Code à mettre sur <a target =\"_blank\" href=\"https://capytale2.ac-paris.fr/web/c/9314-2805095\">Capytale</a> dans le fichier  **javascript3.js**"
   ]
  },
  {
   "cell_type": "code",
   "execution_count": 7,
   "metadata": {
    "collapsed": true
   },
   "outputs": [],
   "source": [
    "  function sommeCarreImpaire(N){\n",
    "    var anticrash=0;\n",
    "    \n",
    "    //Votre code...\n",
    "    \n",
    "    while( anticrash<50 && ...){\n",
    "\n",
    "        //Votre code...\n",
    "         anticrash++;\n",
    "    }  \n",
    "    \n",
    "    //Votre code...\n",
    "      \n",
    "  }"
   ]
  },
  {
   "cell_type": "markdown",
   "metadata": {},
   "source": [
    "## Tests (ne pas mettre sur Capytale)"
   ]
  },
  {
   "cell_type": "code",
   "execution_count": 8,
   "metadata": {
    "collapsed": true
   },
   "outputs": [
    {
     "name": "stdout",
     "output_type": "stream",
     "text": [
      "nombreBits(26)=undefined\n",
      "nombreBits(0)=undefined\n",
      "nombreBits(1)=undefined\n",
      "nombreBits(30)=undefined\n",
      "nombreBits(100)=undefined\n"
     ]
    }
   ],
   "source": [
    "var N=4;\n",
    "console.log(\"sommeCarreImpaire(\"+N+\") = \"+sommeCarreImpaire(N));\n",
    "N=1;\n",
    "console.log(\"sommeCarreImpaire(\"+N+\") = \"+sommeCarreImpaire(N));\n",
    "N=0;\n",
    "console.log(\"sommeCarreImpaire(\"+N+\") = \"+sommeCarreImpaire(N));\n",
    "N=2;\n",
    "console.log(\"sommeCarreImpaire(\"+N+\") = \"+sommeCarreImpaire(N));\n",
    "N=3;\n",
    "console.log(\"sommeCarreImpaire(\"+N+\") = \"+sommeCarreImpaire(N));\n",
    "  "
   ]
  },
  {
   "cell_type": "code",
   "execution_count": null,
   "metadata": {
    "collapsed": true
   },
   "outputs": [],
   "source": []
  }
 ],
 "metadata": {
  "kernelspec": {
   "display_name": "Javascript",
   "language": "javascript",
   "name": "javascript"
  }
 },
 "nbformat": 4,
 "nbformat_minor": 2
}
